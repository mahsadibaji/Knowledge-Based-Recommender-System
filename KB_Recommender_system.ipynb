{
  "nbformat": 4,
  "nbformat_minor": 0,
  "metadata": {
    "colab": {
      "name": "KB Recommender system.ipynb",
      "provenance": []
    },
    "kernelspec": {
      "name": "python3",
      "display_name": "Python 3"
    },
    "language_info": {
      "name": "python"
    }
  },
  "cells": [
    {
      "cell_type": "markdown",
      "metadata": {
        "id": "2eNd113zioRj"
      },
      "source": [
        "# **Knowledge-Based Recommender System on IMDB movies extensive dataset**"
      ]
    },
    {
      "cell_type": "code",
      "metadata": {
        "id": "2Gr3_7ONjMyh"
      },
      "source": [
        "import pandas as pd"
      ],
      "execution_count": null,
      "outputs": []
    },
    {
      "cell_type": "code",
      "metadata": {
        "id": "nAuFqbdimzxK"
      },
      "source": [
        "from pydrive.auth import GoogleAuth\n",
        "from pydrive.drive import GoogleDrive\n",
        "from google.colab import auth\n",
        "from oauth2client.client import GoogleCredentials"
      ],
      "execution_count": null,
      "outputs": []
    },
    {
      "cell_type": "code",
      "metadata": {
        "id": "XOdOzX-DoV3-"
      },
      "source": [
        "auth.authenticate_user()\n",
        "gauth = GoogleAuth()\n",
        "gauth.credentials = GoogleCredentials.get_application_default()\n",
        "drive = GoogleDrive(gauth)"
      ],
      "execution_count": null,
      "outputs": []
    },
    {
      "cell_type": "code",
      "metadata": {
        "id": "xn9TrN0hnEgP"
      },
      "source": [
        "def load_file_from_drive(id, name):\n",
        "    downloaded = drive.CreateFile({'id':id})\n",
        "    downloaded.GetContentFile(name)"
      ],
      "execution_count": null,
      "outputs": []
    },
    {
      "cell_type": "markdown",
      "metadata": {
        "id": "mcu7BLuYh7QI"
      },
      "source": [
        "### **Dataset Overview**"
      ]
    },
    {
      "cell_type": "markdown",
      "metadata": {
        "id": "KO4pSMXMi9qq"
      },
      "source": [
        "dataset complete information is available in this [link](https://www.kaggle.com/stefanoleone992/imdb-extensive-dataset) \n",
        "\n",
        "The movies dataset includes 85,855 movies with 22 attributes containing movie description, average rating, number of votes, genre, etc.\n"
      ]
    },
    {
      "cell_type": "code",
      "metadata": {
        "colab": {
          "base_uri": "https://localhost:8080/"
        },
        "id": "4fpjfpTNcQPy",
        "outputId": "9e6fcbe3-f107-4e1f-c89d-a2424993d8fb"
      },
      "source": [
        "load_file_from_drive('1ENzzJX8kE0dkvy92aTHdzSDMn_CIVixA', 'imdb_movies.csv')\n",
        "df = pd.read_csv('imdb_movies.csv')"
      ],
      "execution_count": null,
      "outputs": [
        {
          "output_type": "stream",
          "text": [
            "/usr/local/lib/python3.7/dist-packages/IPython/core/interactiveshell.py:2718: DtypeWarning: Columns (3) have mixed types.Specify dtype option on import or set low_memory=False.\n",
            "  interactivity=interactivity, compiler=compiler, result=result)\n"
          ],
          "name": "stderr"
        }
      ]
    },
    {
      "cell_type": "code",
      "metadata": {
        "colab": {
          "base_uri": "https://localhost:8080/",
          "height": 678
        },
        "id": "nvRobjagjKki",
        "outputId": "a3eb03b6-117b-4815-9d68-ff7984cc75f8"
      },
      "source": [
        "df.head()"
      ],
      "execution_count": null,
      "outputs": [
        {
          "output_type": "execute_result",
          "data": {
            "text/html": [
              "<div>\n",
              "<style scoped>\n",
              "    .dataframe tbody tr th:only-of-type {\n",
              "        vertical-align: middle;\n",
              "    }\n",
              "\n",
              "    .dataframe tbody tr th {\n",
              "        vertical-align: top;\n",
              "    }\n",
              "\n",
              "    .dataframe thead th {\n",
              "        text-align: right;\n",
              "    }\n",
              "</style>\n",
              "<table border=\"1\" class=\"dataframe\">\n",
              "  <thead>\n",
              "    <tr style=\"text-align: right;\">\n",
              "      <th></th>\n",
              "      <th>imdb_title_id</th>\n",
              "      <th>title</th>\n",
              "      <th>original_title</th>\n",
              "      <th>year</th>\n",
              "      <th>date_published</th>\n",
              "      <th>genre</th>\n",
              "      <th>duration</th>\n",
              "      <th>country</th>\n",
              "      <th>language</th>\n",
              "      <th>director</th>\n",
              "      <th>writer</th>\n",
              "      <th>production_company</th>\n",
              "      <th>actors</th>\n",
              "      <th>description</th>\n",
              "      <th>avg_vote</th>\n",
              "      <th>votes</th>\n",
              "      <th>budget</th>\n",
              "      <th>usa_gross_income</th>\n",
              "      <th>worlwide_gross_income</th>\n",
              "      <th>metascore</th>\n",
              "      <th>reviews_from_users</th>\n",
              "      <th>reviews_from_critics</th>\n",
              "    </tr>\n",
              "  </thead>\n",
              "  <tbody>\n",
              "    <tr>\n",
              "      <th>0</th>\n",
              "      <td>tt0000009</td>\n",
              "      <td>Miss Jerry</td>\n",
              "      <td>Miss Jerry</td>\n",
              "      <td>1894</td>\n",
              "      <td>1894-10-09</td>\n",
              "      <td>Romance</td>\n",
              "      <td>45</td>\n",
              "      <td>USA</td>\n",
              "      <td>None</td>\n",
              "      <td>Alexander Black</td>\n",
              "      <td>Alexander Black</td>\n",
              "      <td>Alexander Black Photoplays</td>\n",
              "      <td>Blanche Bayliss, William Courtenay, Chauncey D...</td>\n",
              "      <td>The adventures of a female reporter in the 1890s.</td>\n",
              "      <td>5.9</td>\n",
              "      <td>154</td>\n",
              "      <td>NaN</td>\n",
              "      <td>NaN</td>\n",
              "      <td>NaN</td>\n",
              "      <td>NaN</td>\n",
              "      <td>1.0</td>\n",
              "      <td>2.0</td>\n",
              "    </tr>\n",
              "    <tr>\n",
              "      <th>1</th>\n",
              "      <td>tt0000574</td>\n",
              "      <td>The Story of the Kelly Gang</td>\n",
              "      <td>The Story of the Kelly Gang</td>\n",
              "      <td>1906</td>\n",
              "      <td>1906-12-26</td>\n",
              "      <td>Biography, Crime, Drama</td>\n",
              "      <td>70</td>\n",
              "      <td>Australia</td>\n",
              "      <td>None</td>\n",
              "      <td>Charles Tait</td>\n",
              "      <td>Charles Tait</td>\n",
              "      <td>J. and N. Tait</td>\n",
              "      <td>Elizabeth Tait, John Tait, Norman Campbell, Be...</td>\n",
              "      <td>True story of notorious Australian outlaw Ned ...</td>\n",
              "      <td>6.1</td>\n",
              "      <td>589</td>\n",
              "      <td>$ 2250</td>\n",
              "      <td>NaN</td>\n",
              "      <td>NaN</td>\n",
              "      <td>NaN</td>\n",
              "      <td>7.0</td>\n",
              "      <td>7.0</td>\n",
              "    </tr>\n",
              "    <tr>\n",
              "      <th>2</th>\n",
              "      <td>tt0001892</td>\n",
              "      <td>Den sorte drøm</td>\n",
              "      <td>Den sorte drøm</td>\n",
              "      <td>1911</td>\n",
              "      <td>1911-08-19</td>\n",
              "      <td>Drama</td>\n",
              "      <td>53</td>\n",
              "      <td>Germany, Denmark</td>\n",
              "      <td>NaN</td>\n",
              "      <td>Urban Gad</td>\n",
              "      <td>Urban Gad, Gebhard Schätzler-Perasini</td>\n",
              "      <td>Fotorama</td>\n",
              "      <td>Asta Nielsen, Valdemar Psilander, Gunnar Helse...</td>\n",
              "      <td>Two men of high rank are both wooing the beaut...</td>\n",
              "      <td>5.8</td>\n",
              "      <td>188</td>\n",
              "      <td>NaN</td>\n",
              "      <td>NaN</td>\n",
              "      <td>NaN</td>\n",
              "      <td>NaN</td>\n",
              "      <td>5.0</td>\n",
              "      <td>2.0</td>\n",
              "    </tr>\n",
              "    <tr>\n",
              "      <th>3</th>\n",
              "      <td>tt0002101</td>\n",
              "      <td>Cleopatra</td>\n",
              "      <td>Cleopatra</td>\n",
              "      <td>1912</td>\n",
              "      <td>1912-11-13</td>\n",
              "      <td>Drama, History</td>\n",
              "      <td>100</td>\n",
              "      <td>USA</td>\n",
              "      <td>English</td>\n",
              "      <td>Charles L. Gaskill</td>\n",
              "      <td>Victorien Sardou</td>\n",
              "      <td>Helen Gardner Picture Players</td>\n",
              "      <td>Helen Gardner, Pearl Sindelar, Miss Fielding, ...</td>\n",
              "      <td>The fabled queen of Egypt's affair with Roman ...</td>\n",
              "      <td>5.2</td>\n",
              "      <td>446</td>\n",
              "      <td>$ 45000</td>\n",
              "      <td>NaN</td>\n",
              "      <td>NaN</td>\n",
              "      <td>NaN</td>\n",
              "      <td>25.0</td>\n",
              "      <td>3.0</td>\n",
              "    </tr>\n",
              "    <tr>\n",
              "      <th>4</th>\n",
              "      <td>tt0002130</td>\n",
              "      <td>L'Inferno</td>\n",
              "      <td>L'Inferno</td>\n",
              "      <td>1911</td>\n",
              "      <td>1911-03-06</td>\n",
              "      <td>Adventure, Drama, Fantasy</td>\n",
              "      <td>68</td>\n",
              "      <td>Italy</td>\n",
              "      <td>Italian</td>\n",
              "      <td>Francesco Bertolini, Adolfo Padovan</td>\n",
              "      <td>Dante Alighieri</td>\n",
              "      <td>Milano Film</td>\n",
              "      <td>Salvatore Papa, Arturo Pirovano, Giuseppe de L...</td>\n",
              "      <td>Loosely adapted from Dante's Divine Comedy and...</td>\n",
              "      <td>7.0</td>\n",
              "      <td>2237</td>\n",
              "      <td>NaN</td>\n",
              "      <td>NaN</td>\n",
              "      <td>NaN</td>\n",
              "      <td>NaN</td>\n",
              "      <td>31.0</td>\n",
              "      <td>14.0</td>\n",
              "    </tr>\n",
              "  </tbody>\n",
              "</table>\n",
              "</div>"
            ],
            "text/plain": [
              "  imdb_title_id  ... reviews_from_critics\n",
              "0     tt0000009  ...                  2.0\n",
              "1     tt0000574  ...                  7.0\n",
              "2     tt0001892  ...                  2.0\n",
              "3     tt0002101  ...                  3.0\n",
              "4     tt0002130  ...                 14.0\n",
              "\n",
              "[5 rows x 22 columns]"
            ]
          },
          "metadata": {
            "tags": []
          },
          "execution_count": 76
        }
      ]
    },
    {
      "cell_type": "code",
      "metadata": {
        "colab": {
          "base_uri": "https://localhost:8080/"
        },
        "id": "E67Fa9Y2mJ3h",
        "outputId": "eeb670e3-fdd2-4fd6-a6c7-542e99d23e54"
      },
      "source": [
        "df.columns"
      ],
      "execution_count": null,
      "outputs": [
        {
          "output_type": "execute_result",
          "data": {
            "text/plain": [
              "Index(['imdb_title_id', 'title', 'original_title', 'year', 'date_published',\n",
              "       'genre', 'duration', 'country', 'language', 'director', 'writer',\n",
              "       'production_company', 'actors', 'description', 'avg_vote', 'votes',\n",
              "       'budget', 'usa_gross_income', 'worlwide_gross_income', 'metascore',\n",
              "       'reviews_from_users', 'reviews_from_critics'],\n",
              "      dtype='object')"
            ]
          },
          "metadata": {
            "tags": []
          },
          "execution_count": 77
        }
      ]
    },
    {
      "cell_type": "markdown",
      "metadata": {
        "id": "WPBcabe3oOFB"
      },
      "source": [
        "since we dont actually need all of the columns, we select the ones we want to use."
      ]
    },
    {
      "cell_type": "code",
      "metadata": {
        "id": "kwTmt2dJmPdp"
      },
      "source": [
        "df = df[['title','genre','duration','year','country','language','director','avg_vote','votes','description']]"
      ],
      "execution_count": null,
      "outputs": []
    },
    {
      "cell_type": "code",
      "metadata": {
        "colab": {
          "base_uri": "https://localhost:8080/",
          "height": 258
        },
        "id": "hGnRcSOFnAL3",
        "outputId": "0ab49666-701f-4b6b-d662-b530c1c5fd7d"
      },
      "source": [
        "df.head()"
      ],
      "execution_count": null,
      "outputs": [
        {
          "output_type": "execute_result",
          "data": {
            "text/html": [
              "<div>\n",
              "<style scoped>\n",
              "    .dataframe tbody tr th:only-of-type {\n",
              "        vertical-align: middle;\n",
              "    }\n",
              "\n",
              "    .dataframe tbody tr th {\n",
              "        vertical-align: top;\n",
              "    }\n",
              "\n",
              "    .dataframe thead th {\n",
              "        text-align: right;\n",
              "    }\n",
              "</style>\n",
              "<table border=\"1\" class=\"dataframe\">\n",
              "  <thead>\n",
              "    <tr style=\"text-align: right;\">\n",
              "      <th></th>\n",
              "      <th>title</th>\n",
              "      <th>genre</th>\n",
              "      <th>duration</th>\n",
              "      <th>year</th>\n",
              "      <th>country</th>\n",
              "      <th>language</th>\n",
              "      <th>director</th>\n",
              "      <th>avg_vote</th>\n",
              "      <th>votes</th>\n",
              "      <th>description</th>\n",
              "    </tr>\n",
              "  </thead>\n",
              "  <tbody>\n",
              "    <tr>\n",
              "      <th>0</th>\n",
              "      <td>Miss Jerry</td>\n",
              "      <td>Romance</td>\n",
              "      <td>45</td>\n",
              "      <td>1894</td>\n",
              "      <td>USA</td>\n",
              "      <td>None</td>\n",
              "      <td>Alexander Black</td>\n",
              "      <td>5.9</td>\n",
              "      <td>154</td>\n",
              "      <td>The adventures of a female reporter in the 1890s.</td>\n",
              "    </tr>\n",
              "    <tr>\n",
              "      <th>1</th>\n",
              "      <td>The Story of the Kelly Gang</td>\n",
              "      <td>Biography, Crime, Drama</td>\n",
              "      <td>70</td>\n",
              "      <td>1906</td>\n",
              "      <td>Australia</td>\n",
              "      <td>None</td>\n",
              "      <td>Charles Tait</td>\n",
              "      <td>6.1</td>\n",
              "      <td>589</td>\n",
              "      <td>True story of notorious Australian outlaw Ned ...</td>\n",
              "    </tr>\n",
              "    <tr>\n",
              "      <th>2</th>\n",
              "      <td>Den sorte drøm</td>\n",
              "      <td>Drama</td>\n",
              "      <td>53</td>\n",
              "      <td>1911</td>\n",
              "      <td>Germany, Denmark</td>\n",
              "      <td>NaN</td>\n",
              "      <td>Urban Gad</td>\n",
              "      <td>5.8</td>\n",
              "      <td>188</td>\n",
              "      <td>Two men of high rank are both wooing the beaut...</td>\n",
              "    </tr>\n",
              "    <tr>\n",
              "      <th>3</th>\n",
              "      <td>Cleopatra</td>\n",
              "      <td>Drama, History</td>\n",
              "      <td>100</td>\n",
              "      <td>1912</td>\n",
              "      <td>USA</td>\n",
              "      <td>English</td>\n",
              "      <td>Charles L. Gaskill</td>\n",
              "      <td>5.2</td>\n",
              "      <td>446</td>\n",
              "      <td>The fabled queen of Egypt's affair with Roman ...</td>\n",
              "    </tr>\n",
              "    <tr>\n",
              "      <th>4</th>\n",
              "      <td>L'Inferno</td>\n",
              "      <td>Adventure, Drama, Fantasy</td>\n",
              "      <td>68</td>\n",
              "      <td>1911</td>\n",
              "      <td>Italy</td>\n",
              "      <td>Italian</td>\n",
              "      <td>Francesco Bertolini, Adolfo Padovan</td>\n",
              "      <td>7.0</td>\n",
              "      <td>2237</td>\n",
              "      <td>Loosely adapted from Dante's Divine Comedy and...</td>\n",
              "    </tr>\n",
              "  </tbody>\n",
              "</table>\n",
              "</div>"
            ],
            "text/plain": [
              "                         title  ...                                        description\n",
              "0                   Miss Jerry  ...  The adventures of a female reporter in the 1890s.\n",
              "1  The Story of the Kelly Gang  ...  True story of notorious Australian outlaw Ned ...\n",
              "2               Den sorte drøm  ...  Two men of high rank are both wooing the beaut...\n",
              "3                    Cleopatra  ...  The fabled queen of Egypt's affair with Roman ...\n",
              "4                    L'Inferno  ...  Loosely adapted from Dante's Divine Comedy and...\n",
              "\n",
              "[5 rows x 10 columns]"
            ]
          },
          "metadata": {
            "tags": []
          },
          "execution_count": 79
        }
      ]
    },
    {
      "cell_type": "markdown",
      "metadata": {
        "id": "-ZrQCaSmbTU4"
      },
      "source": [
        "we dont want Nan values for columns so we can replace them with empty strings."
      ]
    },
    {
      "cell_type": "code",
      "metadata": {
        "colab": {
          "base_uri": "https://localhost:8080/"
        },
        "id": "mAWfdC-Ank7B",
        "outputId": "056b669b-bc3c-451d-e9c9-148985bd56d6"
      },
      "source": [
        "df_missing = df.isna()\n",
        "df_missing.head()\n",
        "num_missing = df_missing.sum()\n",
        "num_missing/len(df)"
      ],
      "execution_count": null,
      "outputs": [
        {
          "output_type": "execute_result",
          "data": {
            "text/plain": [
              "title          0.000000\n",
              "genre          0.000000\n",
              "duration       0.000000\n",
              "year           0.000000\n",
              "country        0.000745\n",
              "language       0.009702\n",
              "director       0.001013\n",
              "avg_vote       0.000000\n",
              "votes          0.000000\n",
              "description    0.024635\n",
              "dtype: float64"
            ]
          },
          "metadata": {
            "tags": []
          },
          "execution_count": 80
        }
      ]
    },
    {
      "cell_type": "code",
      "metadata": {
        "id": "qkxVpfKUrvmX"
      },
      "source": [
        "df['language'] = df['language'].fillna('')\n",
        "df['director'] = df['director'].fillna('')\n",
        "df['country'] = df['country'].fillna('')\n",
        "df['description'] = df['description'].fillna('')"
      ],
      "execution_count": null,
      "outputs": []
    },
    {
      "cell_type": "markdown",
      "metadata": {
        "id": "6OqYPbCcbP7q"
      },
      "source": [
        "then we need to make sure the types of the each column are correct (especially the numeric columns)bold text"
      ]
    },
    {
      "cell_type": "code",
      "metadata": {
        "id": "GngfsO1imryN"
      },
      "source": [
        "df.year=df.year.replace('TV Movie 2019',2019).astype(int)\n",
        "for column in df.columns:\n",
        "    try:\n",
        "        df[column] = pd.to_numeric(df[column])\n",
        "    except:\n",
        "        df[column] = df[column].astype(\"string\")\n",
        "df['genre'] = df['genre'].apply(lambda x: x.lower())"
      ],
      "execution_count": null,
      "outputs": []
    },
    {
      "cell_type": "code",
      "metadata": {
        "colab": {
          "base_uri": "https://localhost:8080/"
        },
        "id": "OfdIOvUNnjIt",
        "outputId": "618ac197-1684-41ed-c194-b6621971df95"
      },
      "source": [
        "df.dtypes"
      ],
      "execution_count": null,
      "outputs": [
        {
          "output_type": "execute_result",
          "data": {
            "text/plain": [
              "title           string\n",
              "genre           object\n",
              "duration         int64\n",
              "year             int64\n",
              "country         string\n",
              "language        string\n",
              "director        string\n",
              "avg_vote       float64\n",
              "votes            int64\n",
              "description     string\n",
              "dtype: object"
            ]
          },
          "metadata": {
            "tags": []
          },
          "execution_count": 83
        }
      ]
    },
    {
      "cell_type": "markdown",
      "metadata": {
        "id": "BnrQnPePlzWM"
      },
      "source": [
        "## **Recommendation based on user preferences via filters**"
      ]
    },
    {
      "cell_type": "markdown",
      "metadata": {
        "id": "3ZjDQP9HXzp7"
      },
      "source": [
        "for recemmondation, first we have to filter the movies that satisfy the preferences. then rate those movies based on a metric and output these in decreasing order of rating.\n",
        "\n",
        "The metric is the numeric quantity based on which you rank movies. A movie is considered to be better than another movie if it has a higher metric score than the other movie.\n",
        "\n",
        "here we use the IMDB’s weighted rating formula as our metric, which is as follows:\n",
        "\n",
        "$(\\frac{v}{v+m}\\times R)+(\\frac{m}{v+m}\\times C)$\n",
        "\n",
        "where \n",
        "*    v is the number of votes for the movie\n",
        "*    m is the minimum number of votes required for the movie to be in the chart (the prerequisite)\n",
        "*    R is the mean rating of the movie\n",
        "*    C is the mean rating of all the movies in the dataset\n"
      ]
    },
    {
      "cell_type": "code",
      "metadata": {
        "id": "njjhlkHkunJU"
      },
      "source": [
        "def imdb_weighted_rating(movie, c, m):\n",
        "    nv = movie['votes']\n",
        "    av = movie['avg_vote']\n",
        "    rating = (nv/(nv+m) * av) + (m/(m+nv) * c)\n",
        "    return rating"
      ],
      "execution_count": null,
      "outputs": []
    },
    {
      "cell_type": "code",
      "metadata": {
        "id": "sL9zWfWxyEWm"
      },
      "source": [
        "def get_recemmendations(movies, genre='',min_dur=0,max_dur=0,min_year=0,max_year=0, language='',director='',recomm_count=10, percent=0.8):\n",
        "    if genre:\n",
        "        movies = movies[movies['genre'].apply(lambda x: len(set(x.split(', ')).intersection(set(genre)))>0)] \n",
        "    if min_dur != 0:\n",
        "        movies = movies[movies['duration']>=min_dur]\n",
        "    if max_dur != 0:\n",
        "        movies = movies[movies['duration']<=max_dur]\n",
        "    if min_year != 0:\n",
        "        movies = movies[movies['year']>=min_year]   \n",
        "    if max_year != 0:\n",
        "        movies = movies[movies['year']<=max_year]\n",
        "    if language != '':\n",
        "        movies = movies[movies['language'].apply(lambda x: language in x.split(', '))]\n",
        "    if director != '': \n",
        "        movies = movies[movies['director']==director]\n",
        "\n",
        "    all_votes_avg = movies['avg_vote'].mean()\n",
        "    min_req_vote = movies['votes'].quantile(percent)\n",
        "    result = movies.copy().loc[movies['votes'] >= min_req_vote]\n",
        "\n",
        "    result['rating'] = result.apply(imdb_weighted_rating, c=all_votes_avg, m=min_req_vote, axis=1)\n",
        "    result = result.sort_values('rating',ascending = False)[:recomm_count]\n",
        "\n",
        "    result['title'] = result['title'].apply(lambda x: x.title())\n",
        "    \n",
        "    return result"
      ],
      "execution_count": null,
      "outputs": []
    },
    {
      "cell_type": "code",
      "metadata": {
        "id": "60_Wl7loLPY1",
        "cellView": "form"
      },
      "source": [
        "#@title Enter you preferences\n",
        "#@markdown in the form below, enter your preferences (leave them as default if it doesn't matter)\n",
        "\n",
        "#@markdown (you can enter multiple genres seperated by comma)\n",
        "genre = \"comedy, romance\" #@param {type:\"string\"}\n",
        "min_duration =  0#@param {type:\"integer\"}\n",
        "max_duration =  120#@param {type:\"integer\"}\n",
        "min_year =  1950#@param {type:\"integer\"}\n",
        "max_year =0  #@param {type:\"integer\"}\n",
        "language = \"\" #@param {type:\"string\"}\n",
        "director = \"\" #@param {type:\"string\"}\n",
        "recommendation_count = 10 #@param {type:\"integer\"}\n",
        "\n",
        "if genre:\n",
        "    genre = [g.lower().strip() for g in genre.split(',')]"
      ],
      "execution_count": null,
      "outputs": []
    },
    {
      "cell_type": "code",
      "metadata": {
        "colab": {
          "base_uri": "https://localhost:8080/",
          "height": 537
        },
        "id": "zCJeOfTT55Me",
        "outputId": "e5e4c6d9-3b99-4566-fa82-f8d05bb59a53"
      },
      "source": [
        "get_recemmendations(df, genre=genre,min_dur=min_duration,max_dur=max_duration,\n",
        "                    min_year=min_year, max_year=max_year, language=language.lower(),\n",
        "                    director=director.lower(), recomm_count=10)"
      ],
      "execution_count": null,
      "outputs": [
        {
          "output_type": "execute_result",
          "data": {
            "text/html": [
              "<div>\n",
              "<style scoped>\n",
              "    .dataframe tbody tr th:only-of-type {\n",
              "        vertical-align: middle;\n",
              "    }\n",
              "\n",
              "    .dataframe tbody tr th {\n",
              "        vertical-align: top;\n",
              "    }\n",
              "\n",
              "    .dataframe thead th {\n",
              "        text-align: right;\n",
              "    }\n",
              "</style>\n",
              "<table border=\"1\" class=\"dataframe\">\n",
              "  <thead>\n",
              "    <tr style=\"text-align: right;\">\n",
              "      <th></th>\n",
              "      <th>title</th>\n",
              "      <th>genre</th>\n",
              "      <th>duration</th>\n",
              "      <th>year</th>\n",
              "      <th>country</th>\n",
              "      <th>language</th>\n",
              "      <th>director</th>\n",
              "      <th>avg_vote</th>\n",
              "      <th>votes</th>\n",
              "      <th>description</th>\n",
              "      <th>rating</th>\n",
              "    </tr>\n",
              "  </thead>\n",
              "  <tbody>\n",
              "    <tr>\n",
              "      <th>38406</th>\n",
              "      <td>Hababam Sinifi</td>\n",
              "      <td>comedy, drama</td>\n",
              "      <td>87</td>\n",
              "      <td>1975</td>\n",
              "      <td>Turkey</td>\n",
              "      <td>Turkish</td>\n",
              "      <td>Ertem Egilmez</td>\n",
              "      <td>9.3</td>\n",
              "      <td>36269</td>\n",
              "      <td>Lazy, uneducated students share a very close b...</td>\n",
              "      <td>9.024274</td>\n",
              "    </tr>\n",
              "    <tr>\n",
              "      <th>83783</th>\n",
              "      <td>Dil Bechara</td>\n",
              "      <td>comedy, drama, romance</td>\n",
              "      <td>101</td>\n",
              "      <td>2020</td>\n",
              "      <td>India</td>\n",
              "      <td>Hindi</td>\n",
              "      <td>Mukesh Chhabra</td>\n",
              "      <td>8.8</td>\n",
              "      <td>101686</td>\n",
              "      <td>The emotional journey of two hopelessly in lov...</td>\n",
              "      <td>8.711264</td>\n",
              "    </tr>\n",
              "    <tr>\n",
              "      <th>38407</th>\n",
              "      <td>Hababam Sinifi Sinifta Kaldi</td>\n",
              "      <td>comedy</td>\n",
              "      <td>91</td>\n",
              "      <td>1976</td>\n",
              "      <td>Turkey</td>\n",
              "      <td>Turkish</td>\n",
              "      <td>Ertem Egilmez</td>\n",
              "      <td>9.0</td>\n",
              "      <td>21178</td>\n",
              "      <td>A young and beautiful female teacher starts wo...</td>\n",
              "      <td>8.591576</td>\n",
              "    </tr>\n",
              "    <tr>\n",
              "      <th>38490</th>\n",
              "      <td>Tosun Pasa</td>\n",
              "      <td>comedy, history</td>\n",
              "      <td>90</td>\n",
              "      <td>1976</td>\n",
              "      <td>Turkey</td>\n",
              "      <td>Turkish</td>\n",
              "      <td>Kartal Tibet</td>\n",
              "      <td>9.0</td>\n",
              "      <td>20968</td>\n",
              "      <td>Late 19th century in Alexandria. Two tradition...</td>\n",
              "      <td>8.588016</td>\n",
              "    </tr>\n",
              "    <tr>\n",
              "      <th>30454</th>\n",
              "      <td>La Vita È Bella</td>\n",
              "      <td>comedy, drama, romance</td>\n",
              "      <td>116</td>\n",
              "      <td>1997</td>\n",
              "      <td>Italy</td>\n",
              "      <td>Italian, German, English</td>\n",
              "      <td>Roberto Benigni</td>\n",
              "      <td>8.6</td>\n",
              "      <td>605648</td>\n",
              "      <td>When an open-minded Jewish librarian and his s...</td>\n",
              "      <td>8.585748</td>\n",
              "    </tr>\n",
              "    <tr>\n",
              "      <th>21811</th>\n",
              "      <td>Ritorno Al Futuro</td>\n",
              "      <td>adventure, comedy, sci-fi</td>\n",
              "      <td>116</td>\n",
              "      <td>1985</td>\n",
              "      <td>USA</td>\n",
              "      <td>English</td>\n",
              "      <td>Robert Zemeckis</td>\n",
              "      <td>8.5</td>\n",
              "      <td>1027330</td>\n",
              "      <td>Marty McFly, a 17-year-old high school student...</td>\n",
              "      <td>8.491883</td>\n",
              "    </tr>\n",
              "    <tr>\n",
              "      <th>60741</th>\n",
              "      <td>Quasi Amici - Intouchables</td>\n",
              "      <td>biography, comedy, drama</td>\n",
              "      <td>112</td>\n",
              "      <td>2011</td>\n",
              "      <td>France</td>\n",
              "      <td>French, English</td>\n",
              "      <td>Olivier Nakache, Éric Toledano</td>\n",
              "      <td>8.5</td>\n",
              "      <td>736691</td>\n",
              "      <td>After he becomes a quadriplegic from a paragli...</td>\n",
              "      <td>8.488695</td>\n",
              "    </tr>\n",
              "    <tr>\n",
              "      <th>38483</th>\n",
              "      <td>Süt Kardesler</td>\n",
              "      <td>comedy, family, mystery</td>\n",
              "      <td>80</td>\n",
              "      <td>1976</td>\n",
              "      <td>Turkey</td>\n",
              "      <td>Turkish</td>\n",
              "      <td>Ertem Egilmez</td>\n",
              "      <td>8.9</td>\n",
              "      <td>17971</td>\n",
              "      <td>Saban, Ramazan and Bayram are sailors in an Ot...</td>\n",
              "      <td>8.444277</td>\n",
              "    </tr>\n",
              "    <tr>\n",
              "      <th>20502</th>\n",
              "      <td>Maratonci Trce Pocasni Krug</td>\n",
              "      <td>comedy, drama</td>\n",
              "      <td>92</td>\n",
              "      <td>1982</td>\n",
              "      <td>Yugoslavia</td>\n",
              "      <td>Serbian</td>\n",
              "      <td>Slobodan Sijan</td>\n",
              "      <td>9.0</td>\n",
              "      <td>14088</td>\n",
              "      <td>The Topalovic family has been in the burial bu...</td>\n",
              "      <td>8.423314</td>\n",
              "    </tr>\n",
              "    <tr>\n",
              "      <th>11445</th>\n",
              "      <td>Il Dottor Stranamore - Ovvero: Come Ho Imparat...</td>\n",
              "      <td>comedy</td>\n",
              "      <td>95</td>\n",
              "      <td>1964</td>\n",
              "      <td>UK, USA</td>\n",
              "      <td>English, Russian</td>\n",
              "      <td>Stanley Kubrick</td>\n",
              "      <td>8.4</td>\n",
              "      <td>441115</td>\n",
              "      <td>An insane general triggers a path to nuclear h...</td>\n",
              "      <td>8.381875</td>\n",
              "    </tr>\n",
              "  </tbody>\n",
              "</table>\n",
              "</div>"
            ],
            "text/plain": [
              "                                                   title  ...    rating\n",
              "38406                                     Hababam Sinifi  ...  9.024274\n",
              "83783                                        Dil Bechara  ...  8.711264\n",
              "38407                       Hababam Sinifi Sinifta Kaldi  ...  8.591576\n",
              "38490                                         Tosun Pasa  ...  8.588016\n",
              "30454                                    La Vita È Bella  ...  8.585748\n",
              "21811                                  Ritorno Al Futuro  ...  8.491883\n",
              "60741                         Quasi Amici - Intouchables  ...  8.488695\n",
              "38483                                      Süt Kardesler  ...  8.444277\n",
              "20502                        Maratonci Trce Pocasni Krug  ...  8.423314\n",
              "11445  Il Dottor Stranamore - Ovvero: Come Ho Imparat...  ...  8.381875\n",
              "\n",
              "[10 rows x 11 columns]"
            ]
          },
          "metadata": {
            "tags": []
          },
          "execution_count": 85
        }
      ]
    },
    {
      "cell_type": "markdown",
      "metadata": {
        "id": "jt3gQ3NimFzA"
      },
      "source": [
        "## **Content Based Recommendation**"
      ]
    },
    {
      "cell_type": "code",
      "metadata": {
        "id": "44avFxfroFRa"
      },
      "source": [
        "df_small = df.sample(frac = 1).iloc[:20000, : ]\n",
        "df_small = df_small.reset_index(drop=True)"
      ],
      "execution_count": null,
      "outputs": []
    },
    {
      "cell_type": "code",
      "metadata": {
        "colab": {
          "base_uri": "https://localhost:8080/",
          "height": 293
        },
        "id": "TDMIFjGlrGbY",
        "outputId": "9fd8fd13-5b3d-48bc-81af-12de9eb14b09"
      },
      "source": [
        "df_small.head()"
      ],
      "execution_count": null,
      "outputs": [
        {
          "output_type": "execute_result",
          "data": {
            "text/html": [
              "<div>\n",
              "<style scoped>\n",
              "    .dataframe tbody tr th:only-of-type {\n",
              "        vertical-align: middle;\n",
              "    }\n",
              "\n",
              "    .dataframe tbody tr th {\n",
              "        vertical-align: top;\n",
              "    }\n",
              "\n",
              "    .dataframe thead th {\n",
              "        text-align: right;\n",
              "    }\n",
              "</style>\n",
              "<table border=\"1\" class=\"dataframe\">\n",
              "  <thead>\n",
              "    <tr style=\"text-align: right;\">\n",
              "      <th></th>\n",
              "      <th>title</th>\n",
              "      <th>genre</th>\n",
              "      <th>duration</th>\n",
              "      <th>year</th>\n",
              "      <th>country</th>\n",
              "      <th>language</th>\n",
              "      <th>director</th>\n",
              "      <th>avg_vote</th>\n",
              "      <th>votes</th>\n",
              "      <th>description</th>\n",
              "    </tr>\n",
              "  </thead>\n",
              "  <tbody>\n",
              "    <tr>\n",
              "      <th>0</th>\n",
              "      <td>Ragazze contro</td>\n",
              "      <td>drama</td>\n",
              "      <td>112</td>\n",
              "      <td>1998</td>\n",
              "      <td>France, USA</td>\n",
              "      <td>French, English</td>\n",
              "      <td>Susan Skoog</td>\n",
              "      <td>6.4</td>\n",
              "      <td>963</td>\n",
              "      <td>A teen faces her impending adulthood in the ca...</td>\n",
              "    </tr>\n",
              "    <tr>\n",
              "      <th>1</th>\n",
              "      <td>Rivista di stelle</td>\n",
              "      <td>comedy, musical</td>\n",
              "      <td>93</td>\n",
              "      <td>1947</td>\n",
              "      <td>USA</td>\n",
              "      <td>English</td>\n",
              "      <td>George Marshall</td>\n",
              "      <td>6.4</td>\n",
              "      <td>328</td>\n",
              "      <td>Almost everyone under contract to Paramount Pi...</td>\n",
              "    </tr>\n",
              "    <tr>\n",
              "      <th>2</th>\n",
              "      <td>Karate baka ichidai</td>\n",
              "      <td>action, biography, drama</td>\n",
              "      <td>91</td>\n",
              "      <td>1977</td>\n",
              "      <td>Japan</td>\n",
              "      <td>Japanese</td>\n",
              "      <td>Kazuhiko Yamaguchi</td>\n",
              "      <td>6.7</td>\n",
              "      <td>207</td>\n",
              "      <td>This movie is based on the true life story of ...</td>\n",
              "    </tr>\n",
              "    <tr>\n",
              "      <th>3</th>\n",
              "      <td>Gioco di donna</td>\n",
              "      <td>drama, romance, war</td>\n",
              "      <td>132</td>\n",
              "      <td>2004</td>\n",
              "      <td>UK, Canada</td>\n",
              "      <td>English, German, French, Spanish</td>\n",
              "      <td>John Duigan</td>\n",
              "      <td>6.6</td>\n",
              "      <td>14488</td>\n",
              "      <td>From the roaring 1920s to the ruinous Spanish ...</td>\n",
              "    </tr>\n",
              "    <tr>\n",
              "      <th>4</th>\n",
              "      <td>Morto tra una settimana... O ti ridiamo i soldi</td>\n",
              "      <td>comedy, drama</td>\n",
              "      <td>90</td>\n",
              "      <td>2018</td>\n",
              "      <td>UK</td>\n",
              "      <td>English</td>\n",
              "      <td>Tom Edmunds</td>\n",
              "      <td>6.2</td>\n",
              "      <td>4742</td>\n",
              "      <td>After his ninth unsuccessful attempt on his ow...</td>\n",
              "    </tr>\n",
              "  </tbody>\n",
              "</table>\n",
              "</div>"
            ],
            "text/plain": [
              "                                             title  ...                                        description\n",
              "0                                   Ragazze contro  ...  A teen faces her impending adulthood in the ca...\n",
              "1                                Rivista di stelle  ...  Almost everyone under contract to Paramount Pi...\n",
              "2                              Karate baka ichidai  ...  This movie is based on the true life story of ...\n",
              "3                                   Gioco di donna  ...  From the roaring 1920s to the ruinous Spanish ...\n",
              "4  Morto tra una settimana... O ti ridiamo i soldi  ...  After his ninth unsuccessful attempt on his ow...\n",
              "\n",
              "[5 rows x 10 columns]"
            ]
          },
          "metadata": {
            "tags": []
          },
          "execution_count": 87
        }
      ]
    },
    {
      "cell_type": "code",
      "metadata": {
        "colab": {
          "base_uri": "https://localhost:8080/"
        },
        "id": "5JJqJafLlqA1",
        "outputId": "cf417039-fffa-4b47-f962-6568da346a12"
      },
      "source": [
        "from sklearn.feature_extraction.text import TfidfVectorizer\n",
        "\n",
        "#Define a TF-IDF Vectorizer Object. Remove all english stop words\n",
        "tfidf = TfidfVectorizer(stop_words='english', max_features=5000)\n",
        "\n",
        "df_small['description'] = df_small['description'].fillna('')\n",
        "df_small['description'] = df_small['description'].apply(lambda x:x.lower())\n",
        "\n",
        "#Construct the required TF-IDF matrix by fitting and transforming the data\n",
        "tfidf_matrix = tfidf.fit_transform(df_small['description'])\n",
        "\n",
        "#Output the shape of tfidf_matrix\n",
        "tfidf_matrix.shape"
      ],
      "execution_count": null,
      "outputs": [
        {
          "output_type": "execute_result",
          "data": {
            "text/plain": [
              "(20000, 5000)"
            ]
          },
          "metadata": {
            "tags": []
          },
          "execution_count": 91
        }
      ]
    },
    {
      "cell_type": "code",
      "metadata": {
        "id": "shaW1vDhmU2W"
      },
      "source": [
        "from sklearn.metrics.pairwise import linear_kernel\n",
        "\n",
        "# Compute the cosine similarity matrix\n",
        "cosine_sim = linear_kernel(tfidf_matrix, tfidf_matrix)"
      ],
      "execution_count": null,
      "outputs": []
    },
    {
      "cell_type": "code",
      "metadata": {
        "id": "hu3lKnEbmfh4"
      },
      "source": [
        "#Construct a reverse map of indices and movie titles\n",
        "indices = pd.Series(df_small.index, index=df_small['title']).drop_duplicates()"
      ],
      "execution_count": null,
      "outputs": []
    },
    {
      "cell_type": "code",
      "metadata": {
        "id": "IX4MTIp4mhmQ"
      },
      "source": [
        "# Function that takes in movie title as input and outputs most similar movies\n",
        "def get_content_based_recommendations(title, cosine_sim=cosine_sim,recomm_count=10):\n",
        "    # Get the index of the movie that matches the title\n",
        "    idx = indices[title]\n",
        "\n",
        "    # Get the pairwsie similarity scores of all movies with that movie\n",
        "    sim_scores = list(enumerate(cosine_sim[idx]))\n",
        "\n",
        "    # Sort the movies based on the similarity scores\n",
        "    sim_scores = sorted(sim_scores, key=lambda x: x[1], reverse=True)\n",
        "\n",
        "    # Get the scores of the 10 most similar movies\n",
        "    sim_scores = sim_scores[1:recomm_count+1]\n",
        "\n",
        "    # Get the movie indices\n",
        "    movie_indices = [i[0] for i in sim_scores]\n",
        "\n",
        "    return df_small['title'].iloc[movie_indices]\n"
      ],
      "execution_count": null,
      "outputs": []
    },
    {
      "cell_type": "code",
      "metadata": {
        "colab": {
          "base_uri": "https://localhost:8080/"
        },
        "id": "LyfeBuWho0Tp",
        "outputId": "59f910a4-d847-4eee-a97b-32c79223b98e"
      },
      "source": [
        "ex = df_small.iloc[100,0]  #cause the movie must be in dataset otherwise it will raise an error.\n",
        "print(f'Recommendations based on movie : {ex}')\n",
        "get_content_based_recommendations(ex)"
      ],
      "execution_count": null,
      "outputs": [
        {
          "output_type": "stream",
          "text": [
            "Recommendations based on movie : Cloud\n"
          ],
          "name": "stdout"
        },
        {
          "output_type": "execute_result",
          "data": {
            "text/plain": [
              "2384                        His First Flame\n",
              "3850                      The Four Feathers\n",
              "2630                              Unashamed\n",
              "17308        Harry Styles: Behind the Album\n",
              "7543                             Holy Lands\n",
              "17240                      California Dolls\n",
              "7549                     Tre piccole parole\n",
              "17792    Animali fantastici e dove trovarli\n",
              "1747      Harry Potter e il calice di fuoco\n",
              "4085                     Breaking & Exiting\n",
              "Name: title, dtype: string"
            ]
          },
          "metadata": {
            "tags": []
          },
          "execution_count": 98
        }
      ]
    },
    {
      "cell_type": "code",
      "metadata": {
        "id": "DywdWe2bKQav"
      },
      "source": [
        ""
      ],
      "execution_count": null,
      "outputs": []
    }
  ]
}